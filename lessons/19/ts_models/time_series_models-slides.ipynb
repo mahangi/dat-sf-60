{
 "cells": [
  {
   "cell_type": "markdown",
   "metadata": {
    "slideshow": {
     "slide_type": "slide"
    }
   },
   "source": [
    "<img src=\"http://imgur.com/1ZcRyrc.png\" style=\"float: left; margin: 20px; height: 55px\">\n",
    "\n",
    "# Time Series: Forecasting Models"
   ]
  },
  {
   "cell_type": "markdown",
   "metadata": {
    "slideshow": {
     "slide_type": "subslide"
    }
   },
   "source": [
    "### Learning Objectives\n",
    " - Define time series analysis and time series forecasting models.\n",
    " - Discuss the unique properties of time series models."
   ]
  },
  {
   "cell_type": "markdown",
   "metadata": {
    "slideshow": {
     "slide_type": "subslide"
    }
   },
   "source": [
    "### Lesson Guide\n",
    "\n",
    "#### Time Series: Forecasting Models\n",
    "- [Time Series Forecasting Models](#A)\n",
    "- [Properties of Time Series Forecasting Models](#B)\n",
    "----"
   ]
  },
  {
   "cell_type": "markdown",
   "metadata": {
    "slideshow": {
     "slide_type": "slide"
    }
   },
   "source": [
    "<h2><a id=\"A\">Time Series Forecasting Models</a></h2>"
   ]
  },
  {
   "cell_type": "markdown",
   "metadata": {
    "slideshow": {
     "slide_type": "subslide"
    }
   },
   "source": [
    "The analyses we've been doing in previous section qualify as 'time series analysis'.\n",
    "\n",
    ">**Time series analysis** comprises methods for analyzing time series data in order >to extract meaningful statistics and other characteristics of the data."
   ]
  },
  {
   "cell_type": "markdown",
   "metadata": {
    "slideshow": {
     "slide_type": "fragment"
    }
   },
   "source": [
    ">In the last class, we focused on exploring time series data and common statistics for time series analysis. In this class, we will advance those techniques to show how to predict or forecast forward from time series data.\n",
    ">\n",
    ">Said another way: Using the techniques covered in this class, we'll be able to use a sequence of values (a time series) to predict future values."
   ]
  },
  {
   "cell_type": "markdown",
   "metadata": {
    "slideshow": {
     "slide_type": "subslide"
    }
   },
   "source": [
    "There are many examples of when you may want to use a series of values to predict a future value:\n",
    "\n",
    "- The number of sales in a future month\n",
    "\n",
    "- Anticipated website traffic when buying a server\n",
    "\n",
    "- Financial forecasting\n",
    "\n",
    "- The number of visitors to your store during the holidays"
   ]
  },
  {
   "cell_type": "markdown",
   "metadata": {
    "slideshow": {
     "slide_type": "subslide"
    }
   },
   "source": [
    "### What Are Time Series Models?\n",
    "\n",
    "- Time series models are models that will be used to predict a future value in the time series.\n",
    "\n",
    "- **Like** other predictive models, we will use prior history to predict the future.\n",
    "\n",
    "- **Unlike** previous models, we will use the earlier outcomes as inputs for predictions.\n",
    "\n",
    "<img src=\"./assets/ts_model.png\" style=\"float: center; height: 375px\">\n"
   ]
  },
  {
   "cell_type": "markdown",
   "metadata": {
    "slideshow": {
     "slide_type": "subslide"
    }
   },
   "source": [
    "**Time series forecasting** is the use of a model to predict future values based on previously observed values. We will discuss these types of models in this section. \n",
    "\n",
    "- As with the modeling you're used to, we will have to evaluate different models to ensure that we have chosen the best one.\n",
    "\n",
    "- So, we will want to evaluate on _test data_ to ensure that our model performs well on unseen data."
   ]
  },
  {
   "cell_type": "markdown",
   "metadata": {
    "slideshow": {
     "slide_type": "fragment"
    }
   },
   "source": [
    "### What Makes Time Series Data Special?\n",
    "\n",
    "Time series data are time dependent. So, the basic assumption of a linear regression model — that the observations are independent — falls apart. Often, time series data include some sort of trend or may have seasonality."
   ]
  },
  {
   "cell_type": "markdown",
   "metadata": {
    "slideshow": {
     "slide_type": "slide"
    }
   },
   "source": [
    "<h2><a id = \"B\">Properties of Time Series Forecasting Models</a></h2>"
   ]
  },
  {
   "cell_type": "markdown",
   "metadata": {
    "slideshow": {
     "slide_type": "subslide"
    }
   },
   "source": [
    "### Training and Testing Sets\n",
    "\n",
    "**Unlike** previous modeling exercises, we won’t be able to use standard cross-validation for evaluation. Time series data have a natural temporal ordering, which makes them different from the studies we've seen in other lessons in which there was no natural ordering of observations. \n",
    "\n",
    "Because these data are ordered, we **cannot choose training and testing examples at random.** As we are attempting to predict _a sequence of future values_, we must train on values from earlier (in time) in our data and then test our values at the end of the period."
   ]
  },
  {
   "cell_type": "markdown",
   "metadata": {
    "slideshow": {
     "slide_type": "subslide"
    }
   },
   "source": [
    "Suppose we did select a random 80% sample of data points for training and a random 20% for testing.\n",
    "\n",
    "**What could go wrong?**"
   ]
  },
  {
   "cell_type": "markdown",
   "metadata": {
    "slideshow": {
     "slide_type": "fragment"
    }
   },
   "source": [
    "> The training dataset would likely contain data from before AND after a test dataset.\n",
    ">\n",
    "> This would not be possible in real life! You can’t use future, unseen data points when building your model. Therefore, it’s not a valid test of how our model would perform in practice."
   ]
  },
  {
   "cell_type": "markdown",
   "metadata": {
    "slideshow": {
     "slide_type": "subslide"
    }
   },
   "source": [
    "Instead, we will exclusively train on values earlier (in time) in our data and test our model on values at the end of the data period.\n",
    "\n",
    "<img src=\"./assets/ts_validation.png\" style=\"float: center; height: 300px\">"
   ]
  },
  {
   "cell_type": "markdown",
   "metadata": {
    "slideshow": {
     "slide_type": "subslide"
    }
   },
   "source": [
    "### Moving Averages and Autocorrelation\n",
    "\n",
    "In previous sections, we learned about a few statistics for analyzing time series. A **moving average** is the average of *k* preceding data points in time.\n",
    "\n",
    "$${\\Huge F_t = \\frac{1}{p} \\sum_{k=t}^{t-p+1}Y_k}$$\n",
    "\n",
    "We just take the $p$ points from $t$ to $t-p+1$, and divide by the $p$ preceding data points."
   ]
  },
  {
   "cell_type": "markdown",
   "metadata": {
    "slideshow": {
     "slide_type": "subslide"
    }
   },
   "source": [
    "We also looked at autocorrelation the compute the relationship of the data with prior values.\n",
    "\n",
    "**Autocorrelation** is how correlated a variable is with itself. Specifically, how related variables from earlier in time are with variables from later in time. Note the need for us to define a *lag*, $k$, which is how many previous time points we should use to compute the correlation.\n",
    "\n",
    "$${\\Huge R(k) = \\frac{\\operatorname{E}[(X_{t} - \\mu)(X_{t-k} - \\mu)]}{\\sigma^2}}$$"
   ]
  },
  {
   "cell_type": "markdown",
   "metadata": {
    "slideshow": {
     "slide_type": "fragment"
    }
   },
   "source": [
    "- We can use these values to assess how we plan to model our time series.\n",
    "\n",
    "- Typically, for a high quality model, we require some autocorrelation in our data.\n",
    "\n",
    "- We can compute autocorrelation at various lag values to determine how far back in time we need to go."
   ]
  },
  {
   "cell_type": "markdown",
   "metadata": {
    "slideshow": {
     "slide_type": "subslide"
    }
   },
   "source": [
    "### Stationarity\n",
    "\n",
    "Many models make an assumption of stationarity, assuming the mean and variance of our values is the same throughout. "
   ]
  },
  {
   "cell_type": "markdown",
   "metadata": {
    "slideshow": {
     "slide_type": "subslide"
    }
   },
   "source": [
    "In order to be classified as stationary, a series must satisfy the following conditions:\n",
    "\n",
    "* The mean of the series should not be a function of time, but rather should be a constant. The image below has the left-hand graph satisfying this condition, whereas the graph in red has a time-dependent mean.\n",
    "\n",
    "![](./assets/mean_nonstationary.png)\n",
    "\n",
    "* The variance of the series should not be a function of time. This property is known as homoscedasticity. The following graph depicts what is and what is not a stationary series. (Notice the varying spread of distribution in the right-hand graph.)\n",
    "\n",
    "![](./assets/var_nonstationary.png)\n",
    "\n",
    "* The covariance of the `i`th term and the `(i + m)`th term should not be a function of time. In the following graph, you'll notice that the spread becomes closer as time increases. Hence, the covariance is not constant with time for the \"red series.\"\n",
    "\n",
    "![](./assets/cov_nonstationary.png)"
   ]
  },
  {
   "cell_type": "markdown",
   "metadata": {
    "slideshow": {
     "slide_type": "fragment"
    }
   },
   "source": [
    "Below are simulated examples of non-stationary time series from Investopedia and why each might occur.\n",
    "\n",
    "<img src=\"./assets/nonstationary.gif\" style=\"float: center; height: 350px\">"
   ]
  },
  {
   "cell_type": "markdown",
   "metadata": {
    "slideshow": {
     "slide_type": "subslide"
    }
   },
   "source": [
    "Why is this important? Many of the time series models work on the assumption that the time series is stationary. If a time series has a particular behavior over time, we intend to leverage the high probability that it will act similarly in the future through our model. \n",
    "\n",
    "As always, these assumptions may not apply to raw real-world data. (In fact, they rarely do!) \n",
    "\n",
    "For example, typical stock market performance is not stationary. In this plot of Dow Jones performance since 1986, the mean is clearly increasing over time:\n",
    "\n",
    "<img src=\"./assets/dow-jones.png\" style=\"float: center; height: 350px\">\n",
    "\n",
    "How can we test this for stationarity? One way is by visualizing the data."
   ]
  },
  {
   "cell_type": "markdown",
   "metadata": {
    "slideshow": {
     "slide_type": "slide"
    }
   },
   "source": [
    "### Testing for Stationarity"
   ]
  },
  {
   "cell_type": "markdown",
   "metadata": {
    "slideshow": {
     "slide_type": "fragment"
    }
   },
   "source": [
    "Import the libraries and data."
   ]
  },
  {
   "cell_type": "code",
   "execution_count": 1,
   "metadata": {},
   "outputs": [
    {
     "data": {
      "text/html": [
       "<div>\n",
       "<style scoped>\n",
       "    .dataframe tbody tr th:only-of-type {\n",
       "        vertical-align: middle;\n",
       "    }\n",
       "\n",
       "    .dataframe tbody tr th {\n",
       "        vertical-align: top;\n",
       "    }\n",
       "\n",
       "    .dataframe thead th {\n",
       "        text-align: right;\n",
       "    }\n",
       "</style>\n",
       "<table border=\"1\" class=\"dataframe\">\n",
       "  <thead>\n",
       "    <tr style=\"text-align: right;\">\n",
       "      <th></th>\n",
       "      <th>week</th>\n",
       "      <th>drone_racing_interest</th>\n",
       "    </tr>\n",
       "  </thead>\n",
       "  <tbody>\n",
       "    <tr>\n",
       "      <th>0</th>\n",
       "      <td>2014-11-09</td>\n",
       "      <td>2</td>\n",
       "    </tr>\n",
       "    <tr>\n",
       "      <th>1</th>\n",
       "      <td>2014-11-16</td>\n",
       "      <td>2</td>\n",
       "    </tr>\n",
       "    <tr>\n",
       "      <th>2</th>\n",
       "      <td>2014-11-23</td>\n",
       "      <td>4</td>\n",
       "    </tr>\n",
       "    <tr>\n",
       "      <th>3</th>\n",
       "      <td>2014-11-30</td>\n",
       "      <td>6</td>\n",
       "    </tr>\n",
       "    <tr>\n",
       "      <th>4</th>\n",
       "      <td>2014-12-07</td>\n",
       "      <td>7</td>\n",
       "    </tr>\n",
       "  </tbody>\n",
       "</table>\n",
       "</div>"
      ],
      "text/plain": [
       "         week  drone_racing_interest\n",
       "0  2014-11-09                      2\n",
       "1  2014-11-16                      2\n",
       "2  2014-11-23                      4\n",
       "3  2014-11-30                      6\n",
       "4  2014-12-07                      7"
      ]
     },
     "execution_count": 1,
     "metadata": {},
     "output_type": "execute_result"
    }
   ],
   "source": [
    "import numpy as np\n",
    "import pandas as pd\n",
    "import matplotlib.pyplot as plt\n",
    "%matplotlib inline\n",
    "\n",
    "drones = pd.read_csv('./datasets/gt_drone_racing.csv', header=1)\n",
    "drones.columns = ['week','drone_racing_interest']\n",
    "drones.head()"
   ]
  },
  {
   "cell_type": "markdown",
   "metadata": {
    "slideshow": {
     "slide_type": "fragment"
    }
   },
   "source": [
    "Change the `week` column to a `datetime` object and make it the index of the DataFrame."
   ]
  },
  {
   "cell_type": "code",
   "execution_count": 2,
   "metadata": {},
   "outputs": [
    {
     "data": {
      "text/html": [
       "<div>\n",
       "<style scoped>\n",
       "    .dataframe tbody tr th:only-of-type {\n",
       "        vertical-align: middle;\n",
       "    }\n",
       "\n",
       "    .dataframe tbody tr th {\n",
       "        vertical-align: top;\n",
       "    }\n",
       "\n",
       "    .dataframe thead th {\n",
       "        text-align: right;\n",
       "    }\n",
       "</style>\n",
       "<table border=\"1\" class=\"dataframe\">\n",
       "  <thead>\n",
       "    <tr style=\"text-align: right;\">\n",
       "      <th></th>\n",
       "      <th>drone_racing_interest</th>\n",
       "    </tr>\n",
       "    <tr>\n",
       "      <th>week</th>\n",
       "      <th></th>\n",
       "    </tr>\n",
       "  </thead>\n",
       "  <tbody>\n",
       "    <tr>\n",
       "      <th>2014-11-09</th>\n",
       "      <td>2</td>\n",
       "    </tr>\n",
       "    <tr>\n",
       "      <th>2014-11-16</th>\n",
       "      <td>2</td>\n",
       "    </tr>\n",
       "    <tr>\n",
       "      <th>2014-11-23</th>\n",
       "      <td>4</td>\n",
       "    </tr>\n",
       "    <tr>\n",
       "      <th>2014-11-30</th>\n",
       "      <td>6</td>\n",
       "    </tr>\n",
       "    <tr>\n",
       "      <th>2014-12-07</th>\n",
       "      <td>7</td>\n",
       "    </tr>\n",
       "  </tbody>\n",
       "</table>\n",
       "</div>"
      ],
      "text/plain": [
       "            drone_racing_interest\n",
       "week                             \n",
       "2014-11-09                      2\n",
       "2014-11-16                      2\n",
       "2014-11-23                      4\n",
       "2014-11-30                      6\n",
       "2014-12-07                      7"
      ]
     },
     "execution_count": 2,
     "metadata": {},
     "output_type": "execute_result"
    }
   ],
   "source": [
    "drones['week'] = pd.to_datetime(drones.week)\n",
    "drones.set_index('week', inplace=True)\n",
    "drones.head()"
   ]
  },
  {
   "cell_type": "markdown",
   "metadata": {
    "slideshow": {
     "slide_type": "subslide"
    }
   },
   "source": [
    "Plot the data."
   ]
  },
  {
   "cell_type": "code",
   "execution_count": 3,
   "metadata": {},
   "outputs": [
    {
     "data": {
      "image/png": "[encoded data removed]",
      "text/plain": [
       "<Figure size 432x288 with 1 Axes>"
      ]
     },
     "metadata": {},
     "output_type": "display_data"
    }
   ],
   "source": [
    "drones.plot();"
   ]
  },
  {
   "cell_type": "markdown",
   "metadata": {
    "slideshow": {
     "slide_type": "fragment"
    }
   },
   "source": [
    "It's clear that there is an overall increasing trend, as well as some seasonal variations."
   ]
  },
  {
   "cell_type": "markdown",
   "metadata": {
    "slideshow": {
     "slide_type": "subslide"
    }
   },
   "source": [
    "But, if this visual check for stationarity wasn't so clear, we could use the following:\n",
    "* **Plotting rolling statistics**: This is another visual technique, but it can help us see if the moving average or moving variance varies over time. \n",
    "* **Dickey-Fuller test**: This is a statistical test for checking for stationarity. The null hypothesis of this test is that the time series is non-stationary. The Dickey-Fuller test returns a test statistic that is compared to a critical value for different confidence levels. If the test statistic is less than the critical value, we reject the null hypothesis and say that the time series is stationary."
   ]
  },
  {
   "cell_type": "markdown",
   "metadata": {
    "slideshow": {
     "slide_type": "subslide"
    }
   },
   "source": [
    "Here's a function for plotting rolling statistics and using the Dickey-Fuller test. We'll use it on our drone data. "
   ]
  },
  {
   "cell_type": "code",
   "execution_count": 4,
   "metadata": {},
   "outputs": [],
   "source": [
    "from statsmodels.tsa.stattools import adfuller\n",
    "def test_stationarity(timeseries):\n",
    "    \n",
    "    # Determining rolling statistics:\n",
    "    rolmean = timeseries.rolling(window=12).mean()\n",
    "    rolstd = timeseries.rolling(window=12).std()\n",
    "\n",
    "    # Plotting rolling statistics:\n",
    "    orig = plt.plot(timeseries, color='blue',label='Original')\n",
    "    mean = plt.plot(rolmean, color='red', label='Rolling Mean')\n",
    "    std = plt.plot(rolstd, color='black', label = 'Rolling Std')\n",
    "    plt.legend(loc='best')\n",
    "    plt.title('Rolling Mean & Standard Deviation')\n",
    "    plt.show(block=False)\n",
    "    \n",
    "    # Performing the Dickey-Fuller test:\n",
    "    print('Results of Dickey-Fuller Test:')\n",
    "    dftest = adfuller(timeseries, autolag='AIC')\n",
    "    dfoutput = pd.Series(dftest[0:4], index=['Test Statistic','p-value','#Lags Used','Number of Observations Used'])\n",
    "    for key,value in dftest[4].items():\n",
    "        dfoutput['Critical Value (%s)'%key] = value\n",
    "    print(dfoutput)"
   ]
  },
  {
   "cell_type": "code",
   "execution_count": 5,
   "metadata": {
    "slideshow": {
     "slide_type": "subslide"
    }
   },
   "outputs": [
    {
     "data": {
      "image/png": "[encoded data removed]",
      "text/plain": [
       "<Figure size 432x288 with 1 Axes>"
      ]
     },
     "metadata": {},
     "output_type": "display_data"
    },
    {
     "name": "stdout",
     "output_type": "stream",
     "text": [
      "Results of Dickey-Fuller Test:\n",
      "Test Statistic                  -3.811995\n",
      "p-value                          0.002787\n",
      "#Lags Used                       0.000000\n",
      "Number of Observations Used    107.000000\n",
      "Critical Value (1%)             -3.492996\n",
      "Critical Value (5%)             -2.888955\n",
      "Critical Value (10%)            -2.581393\n",
      "dtype: float64\n"
     ]
    }
   ],
   "source": [
    "test_stationarity(drones.drone_racing_interest) "
   ]
  },
  {
   "cell_type": "code",
   "execution_count": 6,
   "metadata": {
    "slideshow": {
     "slide_type": "subslide"
    }
   },
   "outputs": [
    {
     "name": "stdout",
     "output_type": "stream",
     "text": [
      "Results of Dickey-Fuller Test:\n",
      "Test Statistic                 -3.334152\n",
      "p-value                         0.013419\n",
      "#Lags Used                      2.000000\n",
      "Number of Observations Used    47.000000\n",
      "Critical Value (1%)            -3.577848\n",
      "Critical Value (5%)            -2.925338\n",
      "Critical Value (10%)           -2.600774\n",
      "dtype: float64\n"
     ]
    },
    {
     "data": {
      "image/png": "[encoded data removed]",
      "text/plain": [
       "<Figure size 432x288 with 1 Axes>"
      ]
     },
     "metadata": {},
     "output_type": "display_data"
    }
   ],
   "source": [
    "foo = pd.Series(np.random.randn(50))\n",
    "plt.plot(foo)\n",
    "\n",
    "# Performing the Dickey-Fuller test:\n",
    "print('Results of Dickey-Fuller Test:')\n",
    "dftest = adfuller(foo, autolag='AIC')\n",
    "dfoutput = pd.Series(dftest[0:4], index=['Test Statistic','p-value','#Lags Used','Number of Observations Used'])\n",
    "for key,value in dftest[4].items():\n",
    "    dfoutput['Critical Value (%s)'%key] = value\n",
    "print(dfoutput)"
   ]
  },
  {
   "cell_type": "code",
   "execution_count": 7,
   "metadata": {
    "slideshow": {
     "slide_type": "subslide"
    }
   },
   "outputs": [
    {
     "name": "stdout",
     "output_type": "stream",
     "text": [
      "Results of Dickey-Fuller Test:\n",
      "Test Statistic                 -1.231664\n",
      "p-value                         0.659829\n",
      "#Lags Used                      2.000000\n",
      "Number of Observations Used    47.000000\n",
      "Critical Value (1%)            -3.577848\n",
      "Critical Value (5%)            -2.925338\n",
      "Critical Value (10%)           -2.600774\n",
      "dtype: float64\n"
     ]
    },
    {
     "data": {
      "image/png": "[encoded data removed]",
      "text/plain": [
       "<Figure size 432x288 with 1 Axes>"
      ]
     },
     "metadata": {},
     "output_type": "display_data"
    }
   ],
   "source": [
    "bar = foo + [x/4 for x in range(50)]\n",
    "plt.plot(bar)\n",
    "\n",
    "# Performing the Dickey-Fuller test:\n",
    "print('Results of Dickey-Fuller Test:')\n",
    "dftest = adfuller(bar, autolag='AIC')\n",
    "dfoutput = pd.Series(dftest[0:4], index=['Test Statistic','p-value','#Lags Used','Number of Observations Used'])\n",
    "for key,value in dftest[4].items():\n",
    "    dfoutput['Critical Value (%s)'%key] = value\n",
    "print(dfoutput)"
   ]
  },
  {
   "cell_type": "markdown",
   "metadata": {
    "slideshow": {
     "slide_type": "subslide"
    }
   },
   "source": [
    "Although the variation in the standard deviation experiences one jump, the mean would seem to be increasing with time. \n",
    "\n",
    "But, the test statistic of the Dickey-Fuller test is less than the critical values (compare the signed values, not the absolute values) and the p-value *is* significant. Suggesting that it *is* stationary.\n",
    "\n",
    "In many cases, the data will not be stationary. We now discuss methods for making a time series more stationary."
   ]
  },
  {
   "cell_type": "markdown",
   "metadata": {
    "slideshow": {
     "slide_type": "slide"
    }
   },
   "source": [
    "### Making a Time Series Stationary"
   ]
  },
  {
   "cell_type": "markdown",
   "metadata": {
    "slideshow": {
     "slide_type": "fragment"
    }
   },
   "source": [
    "Often, if our assumptions regarding stationarity don’t hold, we need to make a time series stationary. In order to do so, we first need to understand what makes a it non-stationary. Two things can do this:\n",
    "\n",
    "1) **Trend**: Variation over time. <br>\n",
    "2) **Seasonality**: Variations at specific timeframes. <br>\n",
    "\n",
    "Although there are many ways to preprocess our data to achieve stationarity, two common methods for removing them are **detrending** and **differencing**."
   ]
  },
  {
   "cell_type": "markdown",
   "metadata": {
    "slideshow": {
     "slide_type": "slide"
    }
   },
   "source": [
    "### Detrending"
   ]
  },
  {
   "cell_type": "markdown",
   "metadata": {},
   "source": [
    "**Detrending** removes major trends in our data. The simplest way is to fit a line to the trend, then make a new series of the difference between the line and the true series. \n",
    "\n",
    "Below are U.S. housing prices over time that demonstrate an upward trend. This makes the time series non-stationary, as the mean home price is increasing. The line fit through it represents the trend.\n",
    "\n",
    "The bottom figure is the \"detrended\" data, where each data point is transformed by subtracting the value of the trend line at that point. This data now has a fixed mean and may be easier to model. This is similar to mean-scaling our features in earlier models with `StandardScaler`.\n",
    "\n",
    "<img src=\"./assets/detrend.gif\" style=\"float: center; height: 300px\">"
   ]
  },
  {
   "cell_type": "markdown",
   "metadata": {},
   "source": [
    "#### Example: Detrending\n",
    "- Fit a trendline to the data."
   ]
  },
  {
   "cell_type": "code",
   "execution_count": 8,
   "metadata": {},
   "outputs": [
    {
     "data": {
      "image/png": "[encoded data removed]",
      "text/plain": [
       "<Figure size 432x288 with 1 Axes>"
      ]
     },
     "metadata": {},
     "output_type": "display_data"
    }
   ],
   "source": [
    "# Re-load drone data\n",
    "drones = pd.read_csv('./datasets/gt_drone_racing.csv', header=1)\n",
    "drones.columns = ['week','drone_racing_interest']\n",
    "\n",
    "# Fit line and plot\n",
    "coefs = np.polyfit(drones.index, drones.drone_racing_interest,1)\n",
    "lineFunction = np.poly1d(coefs)\n",
    "plt.plot(drones.index, drones.drone_racing_interest, drones.index, lineFunction(drones.index));"
   ]
  },
  {
   "cell_type": "markdown",
   "metadata": {},
   "source": [
    "Detrend the time series. In its simplest form, we literally subtract the trendline from the time series."
   ]
  },
  {
   "cell_type": "code",
   "execution_count": 9,
   "metadata": {},
   "outputs": [
    {
     "data": {
      "image/png": "[encoded data removed]",
      "text/plain": [
       "<Figure size 432x288 with 1 Axes>"
      ]
     },
     "metadata": {},
     "output_type": "display_data"
    }
   ],
   "source": [
    "plt.plot(drones.index, drones.drone_racing_interest - lineFunction(drones.index));"
   ]
  },
  {
   "cell_type": "markdown",
   "metadata": {},
   "source": [
    "There is also a helper function for this."
   ]
  },
  {
   "cell_type": "code",
   "execution_count": 10,
   "metadata": {},
   "outputs": [
    {
     "data": {
      "image/png": "[encoded data removed]",
      "text/plain": [
       "<Figure size 432x288 with 1 Axes>"
      ]
     },
     "metadata": {},
     "output_type": "display_data"
    }
   ],
   "source": [
    "import scipy.signal\n",
    "ffty = scipy.signal.detrend(drones.drone_racing_interest.values)\n",
    "plt.plot(drones.index, ffty);"
   ]
  },
  {
   "cell_type": "markdown",
   "metadata": {
    "slideshow": {
     "slide_type": "slide"
    }
   },
   "source": [
    "### Differencing"
   ]
  },
  {
   "cell_type": "markdown",
   "metadata": {},
   "source": [
    "A related method is **differencing**. Instead of predicting the (non-stationary) series, we can predict the difference between two consecutive values. **ARIMA** models incorporate this approach.\n",
    "\n",
    "Recall that we used Pandas' `.diff()` method to find the difference in an earlier section."
   ]
  },
  {
   "cell_type": "code",
   "execution_count": 11,
   "metadata": {
    "slideshow": {
     "slide_type": "subslide"
    }
   },
   "outputs": [
    {
     "name": "stdout",
     "output_type": "stream",
     "text": [
      "0    NaN\n",
      "1    0.0\n",
      "2    1.0\n",
      "3    1.0\n",
      "4    2.0\n",
      "5    3.0\n",
      "dtype: float64\n",
      "0    0.0\n",
      "1   -1.0\n",
      "2   -1.0\n",
      "3   -2.0\n",
      "4   -3.0\n",
      "5    NaN\n",
      "dtype: float64\n"
     ]
    }
   ],
   "source": [
    "# Simple differencing example\n",
    "s = pd.Series([1, 1, 2, 3, 5, 8])\n",
    "print(s.diff(1))  \n",
    "print(s.diff(-1))"
   ]
  },
  {
   "cell_type": "code",
   "execution_count": 12,
   "metadata": {},
   "outputs": [
    {
     "data": {
      "image/png": "[encoded data removed]",
      "text/plain": [
       "<Figure size 432x288 with 1 Axes>"
      ]
     },
     "metadata": {},
     "output_type": "display_data"
    }
   ],
   "source": [
    "# More applied differencing example\n",
    "drones['change'] = drones.drone_racing_interest.diff(1);\n",
    "drones.plot();"
   ]
  }
 ],
 "metadata": {
  "celltoolbar": "Slideshow",
  "kernelspec": {
   "display_name": "Python 3",
   "language": "python",
   "name": "python3"
  },
  "language_info": {
   "codemirror_mode": {
    "name": "ipython",
    "version": 3
   },
   "file_extension": ".py",
   "mimetype": "text/x-python",
   "name": "python",
   "nbconvert_exporter": "python",
   "pygments_lexer": "ipython3",
   "version": "3.6.5"
  }
 },
 "nbformat": 4,
 "nbformat_minor": 2
}
