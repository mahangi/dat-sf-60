{
 "cells": [
  {
   "cell_type": "markdown",
   "metadata": {},
   "source": [
    "<img src=\"http://imgur.com/1ZcRyrc.png\" style=\"float: left; margin: 20px; height: 55px\">\n",
    "\n",
    "# Chicago Lab: Housing Prices Dataset\n",
    "\n",
    "_Author: Dan Wilhelm (LA)_\n",
    "\n",
    "---\n",
    "\n",
    "**Dataset:** /data/chicago.csv. \"House Prices\" is a list of homes sold in Chicago. \"Neighborhood Information\" contains broad demographic data for each neighborhood.\n",
    "\n",
    "## The Question\n",
    "\n",
    "What is the price of 1342 N Leavitt Street? It's located in Wicker Park, a single-family home with two baths. The home is a 10-minute drive from the loop at 3.96 miles to Lake Michigan. The local crime index is 3.76 and the local school index is 16.7. The house is 116 years old. The lot size is 3,049 sqft and the house size is 3,154 sqft.\n",
    "\n",
    "\n",
    "## Assignment\n",
    "\n",
    "1. Below, we will use the five-step initial procedure for analyzing data from \"Bad Data Handbook\".\n",
    "\n",
    "2. Following these initial steps, we will ask questions and try to answer them using Pandas and Matplotlib. Hopefully, once we are done asking questions we will better understand the dataset!\n",
    "\n",
    "2. Now that you better understand the dataset, try to answer the question. Argue that your answer is a good prediction by using validation, statistical, or graphical techniques."
   ]
  },
  {
   "cell_type": "code",
   "execution_count": 2,
   "metadata": {
    "collapsed": true
   },
   "outputs": [],
   "source": [
    "import numpy as np\n",
    "import pandas as pd\n",
    "\n",
    "from matplotlib import pyplot as plt\n",
    "\n",
    "%matplotlib inline"
   ]
  },
  {
   "cell_type": "markdown",
   "metadata": {},
   "source": [
    "## 1. Understand the Data Structure\n",
    "\n",
    "+ Open the data file in a text editor (or Jupyter) and scan through it to ensure the data is in an acceptable format.\n",
    "+ If you notice any missing or invalid data, keep this in mind."
   ]
  },
  {
   "cell_type": "code",
   "execution_count": 6,
   "metadata": {
    "collapsed": true
   },
   "outputs": [],
   "source": [
    "# Load in the data file here using Pandas!"
   ]
  },
  {
   "cell_type": "markdown",
   "metadata": {},
   "source": [
    "## 2. Validate the Columns\n",
    "\n",
    "+ Understand the units or meaning of each column.\n",
    "+ Look at the values. Ensure they make sense in the context of each column.\n",
    "+ Look for missing/empty values."
   ]
  },
  {
   "cell_type": "code",
   "execution_count": null,
   "metadata": {
    "collapsed": true
   },
   "outputs": [],
   "source": []
  },
  {
   "cell_type": "markdown",
   "metadata": {},
   "source": [
    "## 3. Validate the Values\n",
    "\n",
    "Write scripts to determine:\n",
    "+ For categorical fields, what are the unique values in the field?\n",
    "+ For numeric fields, are all values numbers?"
   ]
  },
  {
   "cell_type": "code",
   "execution_count": null,
   "metadata": {
    "collapsed": true
   },
   "outputs": [],
   "source": []
  },
  {
   "cell_type": "markdown",
   "metadata": {},
   "source": [
    "## 4. Interpret Columns via Simple Stats\n",
    "\n",
    "+ Find min/max, average for each column. Do these make sense in the context of the column?\n",
    "+ Do financial values have reasonable upper bounds?"
   ]
  },
  {
   "cell_type": "code",
   "execution_count": null,
   "metadata": {
    "collapsed": true
   },
   "outputs": [],
   "source": []
  },
  {
   "cell_type": "markdown",
   "metadata": {},
   "source": [
    "## 5. Visualize Columns via Histograms\n",
    "\n",
    "+ Any outliers?\n",
    "+ Do the column values seem to follow a normal distribution? Uniform? Exponential (i.e. long tail)? If exponential, taking log(X) may be beneficial for linear regerssion."
   ]
  },
  {
   "cell_type": "code",
   "execution_count": null,
   "metadata": {
    "collapsed": true
   },
   "outputs": [],
   "source": []
  },
  {
   "cell_type": "markdown",
   "metadata": {},
   "source": [
    "## Notice anything interesting in the previous steps? \n",
    "\n",
    "Hopefully after completing the above you have some interesting questions in mind! Feel free to explore these. In addition, some interesting questions are below. These follow the progression above -- first, we look at the column types, then we try to explain invalid values, then we look at other properties of the dataset."
   ]
  },
  {
   "cell_type": "code",
   "execution_count": null,
   "metadata": {
    "collapsed": true
   },
   "outputs": [],
   "source": []
  },
  {
   "cell_type": "markdown",
   "metadata": {},
   "source": [
    "## Question 1\n",
    "\n",
    "Can you extract any useful information from the Address and Neighborhood columns?\n",
    "\n",
    "\n",
    "+ This could include:\n",
    "\n",
    " + Removing the column, or\n",
    " + Creating derived columns (e.g. creating numeric columns from a text one).\n",
    "\n",
    "\n",
    "+ Also consider (optionally) converting the HouseType column into indicator columns. (e.g. a new column Condo which is 1 only if HouseType is Condo; otherwise, it is 0)"
   ]
  },
  {
   "cell_type": "code",
   "execution_count": null,
   "metadata": {
    "collapsed": true
   },
   "outputs": [],
   "source": []
  },
  {
   "cell_type": "markdown",
   "metadata": {},
   "source": [
    "## Question 2\n",
    "\n",
    "Is there a pattern to the zero/NaN values?\n",
    "\n",
    "\n",
    "+ You have at least three options:\n",
    " 1. Remove these rows entirely, or\n",
    " 2. Convert zero/NaN to all zeros and leave them in (affecting column-based analyses), or \n",
    " 3. Replace the zeros/NaNs with the column means.\n",
    " \n",
    " \n",
    "+ Keeping the original question in mind, what analyses might help you make this decision? Perform them! (e.g. If the zero values correspond to homes built recently, perhaps the recent-built homes' prices are distributed much differently than older homes' prices. So, the rows would not likely be applicable to the target home since it is older ... so we can likely remove the rows entirely.)\n",
    "\n",
    "\n",
    "+ Which of these would you recommend (and do)? Provide support for your decision!"
   ]
  },
  {
   "cell_type": "code",
   "execution_count": null,
   "metadata": {
    "collapsed": true
   },
   "outputs": [],
   "source": []
  },
  {
   "cell_type": "markdown",
   "metadata": {},
   "source": [
    "## Question 3\n",
    "\n",
    "Which homes would you consider outliers?\n",
    "\n",
    "+ Do you believe these are valid points or errors in collection?\n",
    "+ Provide evidence to support the above. For example, if a house is abnormally expensive, can you provide supporting reasons why it might be priced that way? (e.g. the price is justified because of a large square footage)"
   ]
  },
  {
   "cell_type": "code",
   "execution_count": null,
   "metadata": {
    "collapsed": true
   },
   "outputs": [],
   "source": []
  },
  {
   "cell_type": "markdown",
   "metadata": {},
   "source": [
    "## Question 4\n",
    "\n",
    "Why do some homes have a smaller property size than square footage?\n",
    "\n",
    "+ Is there anything special about these?"
   ]
  },
  {
   "cell_type": "code",
   "execution_count": null,
   "metadata": {
    "collapsed": true
   },
   "outputs": [],
   "source": []
  },
  {
   "cell_type": "markdown",
   "metadata": {},
   "source": [
    "## Question 5\n",
    "\n",
    "Now that you understand the data better, can you predict a price for the home above?\n",
    "\n",
    "+ Provide supporting evidence for your price."
   ]
  },
  {
   "cell_type": "code",
   "execution_count": null,
   "metadata": {
    "collapsed": true
   },
   "outputs": [],
   "source": [
    " "
   ]
  }
 ],
 "metadata": {
  "kernelspec": {
   "display_name": "Python [default]",
   "language": "python",
   "name": "python3"
  },
  "language_info": {
   "codemirror_mode": {
    "name": "ipython",
    "version": 3
   },
   "file_extension": ".py",
   "mimetype": "text/x-python",
   "name": "python",
   "nbconvert_exporter": "python",
   "pygments_lexer": "ipython3",
   "version": "3.6.4"
  }
 },
 "nbformat": 4,
 "nbformat_minor": 2
}
