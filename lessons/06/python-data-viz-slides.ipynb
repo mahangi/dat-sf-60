{
 "cells": [
  {
   "cell_type": "markdown",
   "metadata": {
    "slideshow": {
     "slide_type": "slide"
    }
   },
   "source": [
    "<img src=\"http://imgur.com/1ZcRyrc.png\" style=\"float: left; margin: 20px; height: 55px\">\n",
    "\n",
    "## Principles of Data Visualization With Python"
   ]
  },
  {
   "cell_type": "markdown",
   "metadata": {
    "slideshow": {
     "slide_type": "subslide"
    }
   },
   "source": [
    "### Learning Objectives\n",
    "*After this lesson, you will be able to:*\n",
    "- Describe why data visualization is important.\n",
    "- Identify the characteristics of a great data visualization.\n",
    "- Describe when you would use a bar chart, pie chart, scatter plot, and histogram."
   ]
  },
  {
   "cell_type": "markdown",
   "metadata": {
    "slideshow": {
     "slide_type": "subslide"
    }
   },
   "source": [
    "### Lesson Guide\n",
    "\n",
    "- [Why Use Data Visualization?](#why)\n",
    "- [Anscombe's Quartet](#anscombe)\n",
    "- [Attributes of Good Visualization](#good)\n",
    "- [Choosing the Right Chart](#choosing)\n",
    "- [Visualization Programming Libraries](#visualization)\n",
    "- [Conclusion](#conclusion)\n",
    "- [Next Step](#next)"
   ]
  },
  {
   "cell_type": "markdown",
   "metadata": {
    "slideshow": {
     "slide_type": "subslide"
    }
   },
   "source": [
    "<a id='why'></a>\n",
    "### Question: Why Use Data Visualization?\n",
    "\n",
    "---\n",
    "\n",
    "**Paired Exercise *(~5 mins)***\n",
    "\n",
    "- **In pairs, find a data visualization that you have used or enjoyed.**\n",
    "- **Ask yourself:** Why do you think data visualization is useful? Why is it important?\n",
    "- **Slack me the url** to that visualization.\n"
   ]
  },
  {
   "cell_type": "code",
   "execution_count": null,
   "metadata": {
    "slideshow": {
     "slide_type": "subslide"
    }
   },
   "outputs": [],
   "source": [
    "## data are just visualizations waiting to happen\n",
    "# let's look at what we usually start with: an array\n",
    "import pandas as pd\n",
    "\n",
    "# check out my awesome text-based data viz below\n",
    "df = pd.read_csv(\"./datasets/sales_info.csv\")\n",
    "df.head()"
   ]
  },
  {
   "cell_type": "markdown",
   "metadata": {
    "slideshow": {
     "slide_type": "slide"
    }
   },
   "source": [
    "### Adam's Top 5 Plots (of the day)"
   ]
  },
  {
   "cell_type": "markdown",
   "metadata": {
    "slideshow": {
     "slide_type": "subslide"
    }
   },
   "source": [
    "#### Figure 1A\n",
    "Some plots are great because they are simple, and ask *good questions*.\n",
    "<img src=\"https://johnwmillr.github.io/assets/images/FreqPlot_beer_and_truck.png\" style=\"width: 500px;\"/>"
   ]
  },
  {
   "cell_type": "markdown",
   "metadata": {
    "slideshow": {
     "slide_type": "subslide"
    }
   },
   "source": [
    "#### Figure 1B\n",
    "<img src=\"https://johnwmillr.github.io/assets/images/FreqPlot_girl_and_love.png\" style=\"width: 500px;\"/>"
   ]
  },
  {
   "cell_type": "markdown",
   "metadata": {
    "slideshow": {
     "slide_type": "subslide"
    }
   },
   "source": [
    "#### Figure 2\n",
    "Others plots are great because while they are more complicated, they *clearly convey information*.\n",
    "<img src=\"http://www.randalolson.com/wp-content/uploads/percent-bachelors-degrees-women-usa.png\" style=\"width: 700px;\"/>"
   ]
  },
  {
   "cell_type": "markdown",
   "metadata": {
    "slideshow": {
     "slide_type": "subslide"
    }
   },
   "source": [
    "#### Figure 3\n",
    "Sometimes plots are great purely out of **dumb luck**.\n",
    "<img src=\"https://fivethirtyeight.com/wp-content/uploads/2018/04/hickey-cage-01.png?w=1150\" style=\"width: 500px;\"/>"
   ]
  },
  {
   "cell_type": "markdown",
   "metadata": {
    "slideshow": {
     "slide_type": "subslide"
    }
   },
   "source": [
    "#### Figure 4\n",
    "But, often plots are great because they manage to clearly represent otherwise ***complicated relationships.***\n",
    "<img src=\"https://fivethirtyeight.com/wp-content/uploads/2018/05/wezerek-derby-01.png?w=2048\" style=\"width: 800px;\"/>"
   ]
  },
  {
   "cell_type": "markdown",
   "metadata": {
    "slideshow": {
     "slide_type": "subslide"
    }
   },
   "source": [
    "#### Figure 5\n",
    "And more and more often, plots are great because they offer a greater range of information through **interactive** inputs.\n",
    "\n",
    "In case anyone is [***getting hungry***](https://fivethirtyeight.com/burrito/#brackets-view)..."
   ]
  },
  {
   "cell_type": "markdown",
   "metadata": {
    "slideshow": {
     "slide_type": "slide"
    }
   },
   "source": [
    "### Answer: Why Use Data Visualization?\n",
    "\n",
    "---\n",
    "\n",
    "Because of the way the human brain processes information, charts or graphs that visualize large amounts of complex data are easier to understand than spreadsheets or reports. \n",
    "\n",
    "- Data visualization is a quick, easy way to convey concepts in a universal  manner — and you can experiment with different scenarios by making slight adjustments.\n",
    "\n",
    "- Here's a helpful overview of the importance of data visualization: [SAS: Data Visualization](http://www.sas.com/en_us/insights/big-data/data-visualization.html)"
   ]
  },
  {
   "cell_type": "markdown",
   "metadata": {
    "slideshow": {
     "slide_type": "slide"
    }
   },
   "source": [
    "#### Challenger Shuttle Disaster: A Case Study\n",
    "\n",
    "Although *Edward Tufte* made great contributions to our understanding of the visual communication of information, through numerous books and articles, his most famous contribution was his critique of the handling of the **1986 Challenger Shuttle disaster**.\n",
    "\n",
    "<img src=\"https://upload.wikimedia.org/wikipedia/commons/thumb/f/fd/STS-51-L_-_Space_Shuttle_Challenger_on_the_Crawler-Transporter.jpg/220px-STS-51-L_-_Space_Shuttle_Challenger_on_the_Crawler-Transporter.jpg\" style=\"width: 250px;\"/>"
   ]
  },
  {
   "cell_type": "markdown",
   "metadata": {
    "slideshow": {
     "slide_type": "subslide"
    }
   },
   "source": [
    "In his critique, he highlights the poor representation of data by NASA scientists and engineers in the days leading up to the deaths of all seven crew members. We can see an example of the representations used below:\n",
    "\n",
    "<img src=\"./assets/o_ring_rockets.jpg\" style=\"width: 450px;\"/>"
   ]
  },
  {
   "cell_type": "markdown",
   "metadata": {
    "slideshow": {
     "slide_type": "fragment"
    }
   },
   "source": [
    "> **After thorough inspection** of the figure above, it would seem NASA engineers had collected data indicating that ***rubber O-rings failed to seal correctly in cold weather.***\n",
    "> - But these charts were unable to sufficiently convey the danger of a liftoff in the colder-than-average weather that morning. \n",
    "> - *e.g.* Vertical typing is hard to read, the rocket cartoons obscure information..."
   ]
  },
  {
   "cell_type": "markdown",
   "metadata": {
    "slideshow": {
     "slide_type": "subslide"
    }
   },
   "source": [
    "*Most importantly,* had the data on O-ring performance been arranged by the most critical factor, temperature, instead of by launch date, decision makers would have had a much better chance of seeing that the launch, proposed to occur in weather below 66 degrees, would very likely lead to O-ring failure (see below).\n",
    "\n",
    "<img src=\"./assets/ring_damage.jpg\" style=\"width: 700px;\"/>\n",
    "\n",
    "Instead, as we all know, the launch proceeded when the temperature was 36 degrees, and the shuttle exploded 73 seconds after liftoff.\n",
    "\n",
    "[Source](https://stanfordmag.org/contents/elemental-evidence)"
   ]
  },
  {
   "cell_type": "markdown",
   "metadata": {
    "slideshow": {
     "slide_type": "subslide"
    }
   },
   "source": [
    "#### *Heavy,* right?"
   ]
  },
  {
   "cell_type": "markdown",
   "metadata": {
    "slideshow": {
     "slide_type": "fragment"
    }
   },
   "source": [
    "> Rest assured, most of our visualizations won't be involved in life and death decision-making like they do at NASA...\n",
    ">\n",
    "> <img src=\"https://upload.wikimedia.org/wikipedia/commons/thumb/9/98/Mort.jpg/440px-Mort.jpg\" style=\"width: 250px;\"/>"
   ]
  },
  {
   "cell_type": "markdown",
   "metadata": {
    "slideshow": {
     "slide_type": "subslide"
    }
   },
   "source": [
    "<a id='anscombe'></a>\n",
    "### _Refresher:_ Anscombe's Quartet\n",
    "\n",
    "---\n",
    "\n",
    "Below are the summary statistics for four plots. What do you think the visualization for each plot would look like? \n",
    "\n",
    "<img src=\"./assets/anscombs_quartet.png\" style=\"width: 500px;\"/>\n"
   ]
  },
  {
   "cell_type": "markdown",
   "metadata": {
    "slideshow": {
     "slide_type": "subslide"
    }
   },
   "source": [
    "You can probably already guess what the answer is: Although the four plots have the same summary statistics, \n",
    "they are actually completely different. This can be seen when we visualize them together. \n",
    "\n",
    "<img src=\"./assets/anscombs_viz.png\" style=\"width: 700px;\"/>"
   ]
  },
  {
   "cell_type": "markdown",
   "metadata": {
    "slideshow": {
     "slide_type": "subslide"
    }
   },
   "source": [
    "These descriptive statistics come from a data set constructed in 1973 by the statistician Francis Anscombe. It is a classic demonstration of the importance of data visualization.\n",
    "\n",
    "- It highlights the limitations of summary statistics.\n",
    "- It shows the effect of outliers on statistical properties.\n",
    "- Anscombe's intention was to attack the impression among statisticians that \"numerical calculations are exact, but graphs are rough.\""
   ]
  },
  {
   "cell_type": "markdown",
   "metadata": {
    "slideshow": {
     "slide_type": "slide"
    }
   },
   "source": [
    "<a id='choosing'></a>\n",
    "### Choosing the Right Chart\n",
    "\n",
    "---\n",
    "\n",
    "\n",
    "In addition to considering data visualization attributes, you should also carefully choose the type of chart or graph you'll use. \n",
    "- Below is a really useful flow-chart to help you select the right visualization for your problem. \n",
    "\n",
    "<img src=\"http://www.perceptualedge.com/blog/wp-content/uploads/2015/07/Abelas-Chart-Selection-Diagram.jpg\" style=\"width: 900px;\"/>\n",
    "\n",
    "PDF version [here.](http://extremepresentation.typepad.com/files/choosing-a-good-chart-09.pdf)"
   ]
  },
  {
   "cell_type": "markdown",
   "metadata": {
    "slideshow": {
     "slide_type": "slide"
    }
   },
   "source": [
    "<a id='good'></a>\n",
    "### Attributes of Good Visualization\n",
    "\n",
    "---\n",
    "\n",
    "What are some attributes you think are important for data visualizations to have? \n",
    "\n",
    "Let's take a look at what Jeffrey Shaffer, who teaches data visualization at the University of Cincinnati, thinks:\n",
    "\n",
    "<img src=\"./assets/data_attributes.png\" style=\"width: 700px;\"/>"
   ]
  },
  {
   "cell_type": "markdown",
   "metadata": {
    "slideshow": {
     "slide_type": "fragment"
    }
   },
   "source": [
    "Interestingly, some attributes have more of an effect on our brains than others. The ones we tend to focus on most are:\n",
    "\n",
    "1. #### Position\n",
    "2. #### Size\n",
    "3. #### Color\n"
   ]
  },
  {
   "cell_type": "markdown",
   "metadata": {
    "slideshow": {
     "slide_type": "subslide"
    }
   },
   "source": [
    "Let's take a look at three visualizations. Which one catches your attention most? Why?\n",
    "\n",
    "## 1.\n",
    "<img src=\"./assets/mixed_shapes.png\" style=\"width: 200px;\"/>\n",
    "\n",
    "## 2.\n",
    "<img src=\"./assets/stacked_shapes.png\" style=\"width: 200px;\"/>\n",
    "\n",
    "## 3.\n",
    "<img src=\"./assets/colored_shapes.png\" style=\"width: 200px;\"/>\n"
   ]
  },
  {
   "cell_type": "markdown",
   "metadata": {
    "slideshow": {
     "slide_type": "subslide"
    }
   },
   "source": [
    "#### Focusing on *color*\n",
    "- Generally, in data visualizations, you’re going to use color in one of three ways: *sequential, divergent, or categorical.*"
   ]
  },
  {
   "cell_type": "markdown",
   "metadata": {
    "slideshow": {
     "slide_type": "subslide"
    }
   },
   "source": [
    "***Sequential colors*** are used to show values ordered from low to high.\n",
    "\n",
    "<img src=\"./assets/sequential.png\" style=\"width: 700px;\"/>"
   ]
  },
  {
   "cell_type": "markdown",
   "metadata": {
    "collapsed": true,
    "slideshow": {
     "slide_type": "subslide"
    }
   },
   "source": [
    "***Divergent colors*** are used to show ordered values that have a critical midpoint, like an average or zero.\n",
    "\n",
    "<img src=\"./assets/divergent.png\" style=\"width: 700px;\"/>"
   ]
  },
  {
   "cell_type": "markdown",
   "metadata": {
    "collapsed": true,
    "slideshow": {
     "slide_type": "subslide"
    }
   },
   "source": [
    "***Categorical colors*** are used to distinguish data that falls into distinct groups.\n",
    "\n",
    "<img src=\"./assets/categorical.png\" style=\"width: 700px;\"/>\n",
    "\n",
    "\n",
    "[Images via MediaShift](http://mediashift.org/2016/02/checklist-does-your-data-visualization-say-what-you-think-it-says/)"
   ]
  },
  {
   "cell_type": "markdown",
   "metadata": {
    "slideshow": {
     "slide_type": "slide"
    }
   },
   "source": [
    "<a id='chart_choice'></a>\n",
    "\n",
    "### Choosing the Right Chart\n",
    "\n",
    "---\n",
    "\n",
    "In addition to considering data visualization attributes, you should also carefully choose the type of chart or graph you'll use. Let's look at a few commonly used charts and graphs.\n",
    "\n",
    "![]()\n",
    "<img src=\"https://imgs.xkcd.com/comics/stove_ownership.png\" style=\"width: 500px;\"/>\n"
   ]
  },
  {
   "cell_type": "markdown",
   "metadata": {
    "slideshow": {
     "slide_type": "subslide"
    }
   },
   "source": [
    "### Bar Charts\n",
    "\n",
    "Bar charts are one of the most common ways of visualizing data. \n",
    "\n",
    "> ***Why?*** \n",
    "> - Because they make it easy to compare information, revealing highs and lows quickly. \n",
    "> - Bar charts are most effective when you have numerical data that splits neatly into different categories."
   ]
  },
  {
   "cell_type": "markdown",
   "metadata": {
    "slideshow": {
     "slide_type": "subslide"
    }
   },
   "source": [
    "<img src=\"./assets/bar_chart.png\" style=\"width: 800px;\"/>\n"
   ]
  },
  {
   "cell_type": "markdown",
   "metadata": {
    "slideshow": {
     "slide_type": "subslide"
    }
   },
   "source": [
    "### Pie Charts\n",
    "\n",
    "Pie charts are the most *commonly misused* chart type. \n",
    "- They should be only used to show relative proportions or percentages of information. "
   ]
  },
  {
   "cell_type": "markdown",
   "metadata": {
    "slideshow": {
     "slide_type": "subslide"
    }
   },
   "source": [
    "> **If you want to compare data, leave it to bars or stacked bars.**\n",
    "> - If your viewer has to work to translate pie wedges into relevant data or compare pie charts to one another, the key points you're trying to convey might go unnoticed."
   ]
  },
  {
   "cell_type": "markdown",
   "metadata": {
    "slideshow": {
     "slide_type": "subslide"
    }
   },
   "source": [
    "### The Best Use of a Pie Chart\n",
    "\n",
    "<img src=\"http://i.imgur.com/uhTf6Ek.jpg\" style=\"width: 550px;\"/>\n"
   ]
  },
  {
   "cell_type": "markdown",
   "metadata": {
    "slideshow": {
     "slide_type": "subslide"
    }
   },
   "source": [
    "<img src=\"./assets/pie_chart.jpg\" style=\"width: 500px;\"/>\n",
    "\n",
    "Source: [Pie chart via TV.com](http://www.tv.com/news/learning-about-the-2013-pilot-season-through-pie-charts-136243394841/)"
   ]
  },
  {
   "cell_type": "markdown",
   "metadata": {
    "slideshow": {
     "slide_type": "subslide"
    }
   },
   "source": [
    "### Scatter Plots\n",
    "\n",
    "Scatter plots are a great way to give you a sense of trends, concentrations, and outliers. This will provide a clear idea of what you may want to investigate further. \n",
    "\n",
    "<img src=\"./assets/scatter_plot.png\" style=\"width: 500px;\"/>\n",
    "\n",
    "[Scatter plot via Wikibooks](https://en.wikibooks.org/wiki/Statistics/Displaying_Data/Scatter_Graphs)"
   ]
  },
  {
   "cell_type": "markdown",
   "metadata": {
    "slideshow": {
     "slide_type": "subslide"
    }
   },
   "source": [
    "### Histograms \n",
    "\n",
    "Histograms are useful when you want to see how your data are distributed across groups.\n",
    "\n",
    "<img src=\"./assets/histogram.png\" style=\"width: 600px;\"/>"
   ]
  },
  {
   "cell_type": "markdown",
   "metadata": {
    "slideshow": {
     "slide_type": "subslide"
    }
   },
   "source": [
    "> **Pro-tip:** A useful rule of thumb for deciding on how many bins to use in our histogram is to use the square root of the number of values.\n",
    ">\n",
    ">$$\\sqrt{N_{values}}$$"
   ]
  },
  {
   "cell_type": "markdown",
   "metadata": {
    "slideshow": {
     "slide_type": "subslide"
    }
   },
   "source": [
    "This is not an all-inclusive list of chart and graph types, but the point is to remember that you have options. \n",
    "- You should always consider which one is most appropriate for representing a particular data set. \n",
    "\n",
    "[Charts and graphs via Tableau](https://drive.google.com/file/d/0Bx2SHQGVqWasT1l4NWtLclJJcWM/view)\n",
    "\n",
    "[Another suggestion](http://extremepresentation.typepad.com/files/choosing-a-good-chart-09.pdf)"
   ]
  },
  {
   "cell_type": "markdown",
   "metadata": {
    "slideshow": {
     "slide_type": "slide"
    }
   },
   "source": [
    "<a id='visualization'></a>\n",
    "### Visualization programming libraries\n",
    "\n",
    "---\n",
    "\n",
    "In this lesson, we will use the Python libraries [Matplotlib](https://matplotlib.org/) (Python plotting) and [Seaborn](https://seaborn.pydata.org/) (statistical data visualization)."
   ]
  },
  {
   "cell_type": "markdown",
   "metadata": {
    "slideshow": {
     "slide_type": "subslide"
    }
   },
   "source": [
    "Many other Python libraries exist for making visualizations. Some of the most popular include:\n",
    "\n",
    "- **[Bokeh](http://bokeh.pydata.org/en/latest/):** Python visualization library that targets the web browser (e.g., in Jupyter). Makes interactive plots, dashboards, data applications, etc.\n",
    "\n",
    "- **[Graphviz](http://graphviz.readthedocs.io/en/stable/manual.html):** Popular visualization library for graph data structures (e.g., edges, vertices, etc). Has Python extensions.\n",
    "\n",
    "- **[Basemap](http://matplotlib.org/basemap/):** Python Matplotlib extension for drawing static maps. There are many other Python libraries for plotting geographic data, including ones that might be easier to use, but many are not actively developed."
   ]
  },
  {
   "cell_type": "markdown",
   "metadata": {
    "slideshow": {
     "slide_type": "subslide"
    }
   },
   "source": [
    "One of the most popular libraries for interactive visualizations in the web browser is D3. Because web browsers only natively run JavaScript, D3 requires knowledge of JavaScript:\n",
    "\n",
    "- **[D3.js](https://d3js.org/):** JavaScript library for interactive web visualizations [D3.js](https://d3js.org/) | [Examples](https://github.com/mbostock/d3/wiki/Gallery)"
   ]
  },
  {
   "cell_type": "markdown",
   "metadata": {
    "slideshow": {
     "slide_type": "subslide"
    }
   },
   "source": [
    "### Other visualization tools\n",
    "\n",
    "Although this course emphasizes a Python approach to data science, a variety of non-programming tools are also used in industry. Often, these tools can be applied much more quickly than creating a custom Python solution. For example:\n",
    "\n",
    "- **Excel:** For quick data cleaning and simple graphs\n",
    "- **Power BI:** A suite of business analytics tools\n",
    "- **Tableau:** Business intelligence and analytics software\n",
    "- **Periscope Data:** Data analysis platform\n",
    "- **Plotly:** Create charts and dashboards\n"
   ]
  },
  {
   "cell_type": "markdown",
   "metadata": {
    "slideshow": {
     "slide_type": "subslide"
    }
   },
   "source": [
    "<a id='conclusion'></a>\n",
    "\n",
    "### Conclusion: Things to consider\n",
    "\n",
    "---\n",
    "\n",
    "- Why is data visualization so important? \n",
    "- What are some considerations to keep in mind when creating a visualization? \n",
    "- When would you use the following types of charts or graphs?\n",
    "    - Bar chart\n",
    "    - Pie chart\n",
    "    - Scatter plot\n",
    "    - Histogram "
   ]
  },
  {
   "cell_type": "markdown",
   "metadata": {
    "slideshow": {
     "slide_type": "slide"
    }
   },
   "source": [
    "<a id='next'></a>\n",
    "\n",
    "### Next step: Python plotting with pandas and seaborn\n",
    "\n",
    "---\n",
    "\n",
    "Open up the [independent research notebook](./practice/python-data-viz-lab.ipynb) to explore plotting the sales data with Python. \n"
   ]
  }
 ],
 "metadata": {
  "anaconda-cloud": {},
  "celltoolbar": "Slideshow",
  "kernelspec": {
   "display_name": "Python 3",
   "language": "python",
   "name": "python3"
  },
  "language_info": {
   "codemirror_mode": {
    "name": "ipython",
    "version": 3
   },
   "file_extension": ".py",
   "mimetype": "text/x-python",
   "name": "python",
   "nbconvert_exporter": "python",
   "pygments_lexer": "ipython3",
   "version": "3.7.2"
  },
  "varInspector": {
   "cols": {
    "lenName": 16,
    "lenType": 16,
    "lenVar": 40
   },
   "kernels_config": {
    "python": {
     "delete_cmd_postfix": "",
     "delete_cmd_prefix": "del ",
     "library": "var_list.py",
     "varRefreshCmd": "print(var_dic_list())"
    },
    "r": {
     "delete_cmd_postfix": ") ",
     "delete_cmd_prefix": "rm(",
     "library": "var_list.r",
     "varRefreshCmd": "cat(var_dic_list()) "
    }
   },
   "types_to_exclude": [
    "module",
    "function",
    "builtin_function_or_method",
    "instance",
    "_Feature"
   ],
   "window_display": false
  }
 },
 "nbformat": 4,
 "nbformat_minor": 1
}
