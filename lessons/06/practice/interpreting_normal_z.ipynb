{
 "cells": [
  {
   "cell_type": "markdown",
   "metadata": {},
   "source": [
    "<img src=\"http://imgur.com/1ZcRyrc.png\" style=\"float: left; margin: 20px; height: 55px\">\n",
    "\n",
    "## Introduction to Normal Distibution and the Z Score\n",
    "\n",
    "---"
   ]
  },
  {
   "cell_type": "markdown",
   "metadata": {},
   "source": [
    "### Learning Objectives\n",
    "- Understand the Normal distribution and the concept of Normality.\n",
    "- Visualize the normal distribution.\n",
    "- Understand the uses of the 68-95-99.7 Rule and the z-score.\n",
    "- Visualize the 69-95-99.7 Rule\n",
    "- Apply z-scoring to data"
   ]
  },
  {
   "cell_type": "markdown",
   "metadata": {},
   "source": [
    "### Lesson Guide\n",
    "- [Review of sample statistics and parameters](#review-statistics-parameters)\n",
    "- [The Normal Distribution](#normal-distribution)\n",
    "- [The 68-95-99.7 Rule](#zdist-rule)\n",
    "- [The z-score](#z-score)"
   ]
  },
  {
   "cell_type": "code",
   "execution_count": null,
   "metadata": {},
   "outputs": [],
   "source": [
    "import numpy as np\n",
    "import scipy.stats as stats\n",
    "# import seaborn as sns\n",
    "import matplotlib.pyplot as plt\n",
    "\n",
    "# sns.set_style('whitegrid')\n",
    "\n",
    "%config InlineBackend.figure_format = 'retina'\n",
    "%matplotlib inline"
   ]
  },
  {
   "cell_type": "markdown",
   "metadata": {},
   "source": [
    "<a id='review-statistics-parameters'></a>\n",
    "\n",
    "### Review: sample statistics and parameters\n",
    "\n",
    "---\n",
    "\n",
    "Recall that we use sample statistics to estimate population parameters. Our goal is to calculate sample statistics and then rely on properties of a random sample (and perhaps additional assumptions) to be able to make inferences that we generalize to the larger population of interest.\n",
    "\n",
    "Below is a table comparing some example sample statistics and population parameters:\n",
    "\n",
    "Metric  | Statistic  | Parameter \n",
    "------------- | --------------- | -------------\n",
    "mean   | $$\\bar{x} = \\frac{\\sum x}{n}$$ | $$ \\mu = \\frac{\\sum x}{N} $$ \n",
    "variance | $$ s^2 = \\frac{\\sum_i (x_i - \\bar{x})^2}{n-1} $$ | $$ \\sigma^2 = \\frac{\\sum_i (x_i - \\mu)^2}{N}  $$\n",
    "standard deviation   | $$ s = \\sqrt{\\frac{\\sum_i (x_i - \\bar{x})^2}{n-1}} $$ | $$ \\sigma = \\sqrt{\\frac{\\sum_i (x_i - \\mu)^2}{N} } $$"
   ]
  },
  {
   "cell_type": "markdown",
   "metadata": {},
   "source": [
    "<a id='normal-distribution'></a>\n",
    "\n",
    "### The Normal distribution\n",
    "\n",
    "---\n",
    "\n",
    "The Normal distribution is arguably the most commonly used distribution in all of statistics. **Normality** is an assumption that underlies many statistical tests and serves as a convenient model for the distribution of many (but not all!) variables.\n",
    "\n",
    "The Normal distribution is parameterized by two parameters: \n",
    "- the population mean\n",
    "- the population standard deviation. \n",
    "\n",
    "If a variable follows a Normal distribution exactly, its mean, median, and mode will all be equal.\n",
    "\n",
    "**Example: Intelligence Quotient**\n",
    "\n",
    "Intelligence Quotient (IQ) follows a Normal distribution by design. IQ is Normally distributed with a mean of 100 and a standard deviation of 15. You might see this specified like:\n",
    "- IQ ~ Normal(100,15) \n",
    "- or IQ ~ N(100,15)\n",
    "\n",
    "**We can plot the Normal distribution N(100, 15) using scipy.**"
   ]
  },
  {
   "cell_type": "code",
   "execution_count": null,
   "metadata": {},
   "outputs": [],
   "source": [
    "#generate points on the x axis:\n",
    "xpoints = np.linspace(40, 160, 500)\n",
    "\n",
    "# use stats.norm.pdf to get values on the probability density function for the Normal distribution\n",
    "ypoints = stats.norm.pdf(xpoints, 100, 15)\n",
    "\n",
    "# initialize a matplotlib \"figure\"\n",
    "fig, ax = plt.subplots(figsize=(8,5))\n",
    "\n",
    "# plot the lines using matplotlib's plot function:\n",
    "ax.plot(xpoints, ypoints, linewidth=3, color='darkred');"
   ]
  },
  {
   "cell_type": "markdown",
   "metadata": {},
   "source": [
    "<a id='zdist-rule'></a>\n",
    "\n",
    "### The 68-95-99.7 Rule\n",
    "\n",
    "---\n",
    "\n",
    "It is often to our benefit to identify how extreme (or far away from the expected value) a particular observation is within the context of a distribution. \n",
    "\n",
    "For example, an extreme stock price might indicate a major shift in the market. This might inform whether we choose to buy or sell. An extreme drop in air pressure might indicate a significant weather event, necessitating a reaction from the National Weather Service. Quantifying just how extreme a particular observation is from the expected value (a.k.a. population mean) may indicate a particular action we should take.\n",
    "\n",
    "It is possible to show that, for a Normal distribution:\n",
    "- 68% of observations from a population will fall within $\\pm 1$ standard deviation of the population mean\n",
    "- 95% of observations from a population will fall within $\\pm 2$ standard deviations of the population mean\n",
    "- 99.7% of observations from a population will fall within $\\pm 3$ standard deviations of the population mean.\n",
    "\n",
    "**Check:** What percentage of individuals have an IQ between 85 and 115?\n",
    "\n",
    "**Check:** What percentage of individuals have an IQ above 100?\n",
    "\n",
    "**Check:** What percentage of individuals have an IQ between 85 and 130?"
   ]
  },
  {
   "cell_type": "markdown",
   "metadata": {},
   "source": [
    "**Below is a visual representation of the 68-95-99.7 Rule on the IQ distribution:**"
   ]
  },
  {
   "cell_type": "code",
   "execution_count": null,
   "metadata": {},
   "outputs": [],
   "source": [
    "#Set mean and standard deviation\n",
    "mu, sigma = 100, 15\n",
    "\n",
    "#Here is a set of points\n",
    "xpoints=np.random.normal(mu, sigma, 50000)\n",
    "\n",
    "avg=np.mean(xpoints)\n",
    "std=np.std(xpoints)\n",
    "\n",
    "#check your values\n",
    "print(avg,std)\n",
    "\n",
    "#Define variables for 1,2,3 sigma\n",
    "std1 = avg + std\n",
    "std1_neg = avg - std\n",
    "std2 = avg + 2*std\n",
    "std2_neg = avg - 2*std\n",
    "std3 = avg + 3*std\n",
    "std3_neg = avg - 3*std\n",
    "\n",
    "#Start Figure\n",
    "#---------------------------------------\n",
    "# initialize a matplotlib \"figure\"\n",
    "fig, ax = plt.subplots(figsize=(8,5))\n",
    "\n",
    "# 68%:\n",
    "ax.axvline(std1_neg, ls='dashed', lw=3, color='#333333', alpha=0.7)\n",
    "ax.axvline(std1, ls='dashed', lw=3, color='#333333', alpha=0.7)\n",
    "\n",
    "# 95%\n",
    "ax.axvline(std2_neg, ls='dashed', lw=3, color='#666666', alpha=0.7)\n",
    "ax.axvline(std2, ls='dashed', lw=3, color='#666666', alpha=0.7)\n",
    "\n",
    "# 99.7%\n",
    "ax.axvline(std3, ls='dashed', lw=3, color='#999999', alpha=0.7)\n",
    "ax.axvline(std3_neg, ls='dashed', lw=3, color='#999999', alpha=0.7)\n",
    "\n",
    "# plot the lines using matplotlib's hist function:\n",
    "ax.hist(xpoints, density=True, bins=100)\n",
    "plt.show();"
   ]
  },
  {
   "cell_type": "markdown",
   "metadata": {},
   "source": [
    "<a id='z-score'></a>\n",
    "\n",
    "### The z-score\n",
    "\n",
    "---\n",
    "\n",
    "While it's nice to have this 68-95-99.7 rule, we can get more specific. \n",
    "\n",
    "**The z-score of an observation quantifies how many standard deviations the observation is away from the population mean:**\n",
    "\n",
    "### $$ z_i = \\frac{x_i - \\text{population mean of x}}{\\text{standard deviation of x}} $$\n",
    "\n",
    "If we have **X ~ N(mu, sigma)**, with the random variable X specified by a normal distribution with mean mu and standard deviation sigma, we can specify the Z-distribution as  **Z ~ N(0,1)**. \n",
    "\n",
    "We call Z the **standard normal distribution** because it has a mean of 0 and standard deviation of 1.\n",
    "\n",
    "The `scipy.stats.zscore` function will convert a vector of values to their respective z-scores.\n",
    "\n",
    "**Calculate the z-scores for a simple vector of values:**"
   ]
  },
  {
   "cell_type": "code",
   "execution_count": 2,
   "metadata": {},
   "outputs": [
    {
     "data": {
      "text/plain": [
       "array([-1.41421356, -0.70710678,  0.        ,  0.70710678,  1.41421356])"
      ]
     },
     "execution_count": 2,
     "metadata": {},
     "output_type": "execute_result"
    }
   ],
   "source": [
    "import numpy as np\n",
    "values = np.array([2,3,4,5,6])\n",
    "from scipy import stats\n",
    "\n",
    "stats.zscore(values)\n",
    "# Your code here:"
   ]
  },
  {
   "cell_type": "markdown",
   "metadata": {},
   "source": [
    "**Check: Describe what the `scipy.stats.zscore` function is doing to convert the vector of values.**"
   ]
  },
  {
   "cell_type": "code",
   "execution_count": null,
   "metadata": {},
   "outputs": [],
   "source": [
    "# Your response here:"
   ]
  },
  {
   "cell_type": "markdown",
   "metadata": {},
   "source": [
    "<a id='additional-resources'></a>\n",
    "\n",
    "### Additional resources\n",
    "\n",
    "---\n",
    "\n",
    "http://blog.vctr.me/posts/central-limit-theorem.html\n",
    "\n",
    "http://www.usablestats.com/lessons/central_limit\n",
    "\n"
   ]
  },
  {
   "cell_type": "code",
   "execution_count": null,
   "metadata": {},
   "outputs": [],
   "source": []
  }
 ],
 "metadata": {
  "kernelspec": {
   "display_name": "Python [default]",
   "language": "python",
   "name": "python3"
  },
  "language_info": {
   "codemirror_mode": {
    "name": "ipython",
    "version": 3
   },
   "file_extension": ".py",
   "mimetype": "text/x-python",
   "name": "python",
   "nbconvert_exporter": "python",
   "pygments_lexer": "ipython3",
   "version": "3.6.4"
  }
 },
 "nbformat": 4,
 "nbformat_minor": 2
}
